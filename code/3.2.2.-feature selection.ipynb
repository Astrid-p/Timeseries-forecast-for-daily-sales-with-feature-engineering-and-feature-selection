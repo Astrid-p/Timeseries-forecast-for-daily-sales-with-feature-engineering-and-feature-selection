{
 "cells": [
  {
   "cell_type": "code",
   "execution_count": 1,
   "metadata": {},
   "outputs": [],
   "source": [
    "import glob\n",
    "from os import getcwd\n",
    "import os\n",
    "import pandas as pd\n",
    "import numpy as np\n",
    "import pickle\n",
    "import seaborn as sns\n",
    "import matplotlib.pyplot as plt\n"
   ]
  },
  {
   "cell_type": "code",
   "execution_count": 2,
   "metadata": {},
   "outputs": [],
   "source": [
    "from sklearn.feature_selection import SelectKBest\n",
    "from sklearn.feature_selection import mutual_info_regression, f_regression\n",
    "from scipy.stats import spearmanr\n",
    "from sklearn.linear_model import Lasso\n",
    "from sklearn.preprocessing import StandardScaler\n",
    "from sklearn.feature_selection import SelectFromModel\n",
    "from sklearn.pipeline import Pipeline\n",
    "from sklearn.model_selection import GridSearchCV\n"
   ]
  },
  {
   "cell_type": "code",
   "execution_count": 3,
   "metadata": {},
   "outputs": [],
   "source": [
    "# get working directory\n",
    "path = os.path.dirname(getcwd())\n",
    "os.chdir(path)\n",
    "with open(\"data/full_features/traindt_not_tf.pkl\", 'rb') as f:\n",
    "    xtrain, ytrain = pickle.load(file=f)\n",
    "with open(\"data/full_features/testdt_not_tf.pkl\", 'rb') as f:\n",
    "    xtest, ytest = pickle.load(file=f)\n"
   ]
  },
  {
   "cell_type": "code",
   "execution_count": 4,
   "metadata": {},
   "outputs": [],
   "source": [
    "def normalize(train, test):\n",
    "   sincos_fea_name = train.loc[:,train.columns.str.contains('sin|cos')].columns\n",
    "   scaled_fea_name = [i for i in train.columns if i not in sincos_fea_name]\n",
    "   # train data\n",
    "   scaler = StandardScaler()\n",
    "   scal_fea = train.loc[:, scaled_fea_name]\n",
    "   scal_fea_tf = scaler.fit_transform(scal_fea)\n",
    "   sincos_fea = np.array(train.loc[:, sincos_fea_name])\n",
    "   xtrain_tf = np.hstack((scal_fea_tf, sincos_fea))\n",
    "\n",
    "   # test dat\n",
    "   scal_fea_test = test.loc[:, scaled_fea_name]\n",
    "   scal_fea_test_tf = scaler.transform(scal_fea_test)\n",
    "   sincos_fea_test = np.array(test.loc[:, sincos_fea_name])\n",
    "   xtest_tf = np.hstack((scal_fea_test_tf, sincos_fea_test))\n",
    "   return xtrain_tf, xtest_tf\n",
    "\n",
    "\n"
   ]
  },
  {
   "attachments": {},
   "cell_type": "markdown",
   "metadata": {},
   "source": [
    "### Full features\n"
   ]
  },
  {
   "cell_type": "code",
   "execution_count": 5,
   "metadata": {},
   "outputs": [],
   "source": [
    "full_xtrain_tf, full_xtest_tf = normalize(xtrain, xtest)\n",
    "full_traindt = (full_xtrain_tf, np.ravel(ytrain,'C'))\n",
    "full_testdt = (full_xtest_tf, np.ravel(ytest,'C'))\n",
    "\n",
    "with open(\"data/full_features/full-feature-tf/traindt.pkl\", 'wb') as f:\n",
    "    pickle.dump(file=f, obj=full_traindt)\n",
    "\n",
    "with open(\"data/full_features/full-feature-tf/testdt.pkl\", 'wb') as f:\n",
    "    pickle.dump(file=f, obj=full_testdt)"
   ]
  },
  {
   "attachments": {},
   "cell_type": "markdown",
   "metadata": {},
   "source": [
    "### Feature selection"
   ]
  },
  {
   "cell_type": "code",
   "execution_count": 6,
   "metadata": {},
   "outputs": [],
   "source": [
    "cat_var = xtrain.loc[:,xtrain.columns.str.contains('sin|cos|holidays|weekend')].columns\n",
    "num_var = [i for i in xtrain.columns if i not in cat_var]\n",
    "xtrain_for_fs = xtrain.loc[:, num_var].copy()\n",
    "xtest_for_fs = xtest.loc[:, num_var].copy()"
   ]
  },
  {
   "cell_type": "code",
   "execution_count": 7,
   "metadata": {},
   "outputs": [
    {
     "data": {
      "text/plain": [
       "166"
      ]
     },
     "execution_count": 7,
     "metadata": {},
     "output_type": "execute_result"
    }
   ],
   "source": [
    "len(num_var)"
   ]
  },
  {
   "attachments": {},
   "cell_type": "markdown",
   "metadata": {},
   "source": [
    "\n",
    "#### Univariate feature selection -Pearson’s Correlation Coefficient "
   ]
  },
  {
   "cell_type": "code",
   "execution_count": 8,
   "metadata": {},
   "outputs": [],
   "source": [
    "fs = SelectKBest(score_func=f_regression, k=44)\n",
    "fs.fit(xtrain_for_fs, np.ravel(ytrain,'C'))\n",
    "fs_cols = np.concatenate((fs.get_feature_names_out(), cat_var))\n",
    "fs_xtrain = xtrain.loc[:, fs_cols]\n",
    "fs_xest = xtest.loc[:, fs_cols]"
   ]
  },
  {
   "cell_type": "code",
   "execution_count": 9,
   "metadata": {},
   "outputs": [],
   "source": [
    "fs_xtrain_tf, fs_xtest_tf = normalize(fs_xtrain, fs_xest)\n",
    "fs_traindt_tf = (fs_xtrain_tf, np.ravel(ytrain,'C'))\n",
    "fs_testdt_tf = (fs_xtest_tf, np.ravel(ytest,'C'))\n",
    "\n",
    "with open(\"data/full_features/f-regression/traindt-tf.pkl\", 'wb') as f:\n",
    "    pickle.dump(file=f, obj=fs_traindt_tf)\n",
    "\n",
    "with open(\"data/full_features/f-regression/testdt-tf.pkl\", 'wb') as f:\n",
    "    pickle.dump(file=f, obj=fs_testdt_tf)\n",
    "\n",
    "with open(\"data/full_features/f-regression/traindt.pkl\", 'wb') as f:\n",
    "    pickle.dump(file=f, obj=(fs_xtrain, ytrain))\n",
    "\n",
    "with open(\"data/full_features/f-regression/testdt.pkl\", 'wb') as f:\n",
    "    pickle.dump(file=f, obj=(fs_xest, ytest))"
   ]
  },
  {
   "cell_type": "code",
   "execution_count": 10,
   "metadata": {},
   "outputs": [
    {
     "data": {
      "text/plain": [
       "array(['sales_lag_1', 'sales_lag_6', 'sales_lag_7', 'sales_lag_21',\n",
       "       'sales_lag_28', 'sales_lag_14', 'sales_mean_1_8', 'sales_mean_1_9',\n",
       "       'sales_mean_1_7', 'sales_mean_1_14', 'sales_mean_1_15',\n",
       "       'sales_mean_1_22', 'sales_min_1_5', 'sales_std_1_9',\n",
       "       'sales_std_1_12', 'sales_std_1_11', 'sales_std_1_7',\n",
       "       'sales_std_1_10', 'sales_std_1_19', 'sales_std_1_13',\n",
       "       'sales_std_1_6', 'sales_std_1_4', 'sales_std_1_5',\n",
       "       'sales_weighted_std5_1_5', 'sales_weighted_std6_1_6',\n",
       "       'sales_weighted_std7_1_7', 'sales_weighted_std8_1_8',\n",
       "       'sales_weighted_std9_1_9', 'sales_weighted_std10_1_10',\n",
       "       'sales_weighted_std11_1_11', 'sales_weighted_std12_1_12',\n",
       "       'sales_weighted_std13_1_13', 'sales_weighted_std14_1_14',\n",
       "       'sales_weighted_std15_1_15', 'sales_weighted_std16_1_16',\n",
       "       'sales_weighted_std17_1_17', 'sales_weighted_std18_1_18',\n",
       "       'sales_weighted_std19_1_19', 'sales_weighted_std21_1_21',\n",
       "       'sales_weighted_std22_1_22', 'sales_weighted_std23_1_23',\n",
       "       'sales_weighted_std24_1_24', 'sales_weighted_std25_1_25', 'trend'],\n",
       "      dtype=object)"
      ]
     },
     "execution_count": 10,
     "metadata": {},
     "output_type": "execute_result"
    }
   ],
   "source": [
    "fs.get_feature_names_out()"
   ]
  },
  {
   "cell_type": "markdown",
   "metadata": {},
   "source": [
    "### Embedded with Lasso"
   ]
  },
  {
   "cell_type": "code",
   "execution_count": 11,
   "metadata": {},
   "outputs": [
    {
     "data": {
      "text/html": [
       "<style>#sk-container-id-1 {color: black;background-color: white;}#sk-container-id-1 pre{padding: 0;}#sk-container-id-1 div.sk-toggleable {background-color: white;}#sk-container-id-1 label.sk-toggleable__label {cursor: pointer;display: block;width: 100%;margin-bottom: 0;padding: 0.3em;box-sizing: border-box;text-align: center;}#sk-container-id-1 label.sk-toggleable__label-arrow:before {content: \"▸\";float: left;margin-right: 0.25em;color: #696969;}#sk-container-id-1 label.sk-toggleable__label-arrow:hover:before {color: black;}#sk-container-id-1 div.sk-estimator:hover label.sk-toggleable__label-arrow:before {color: black;}#sk-container-id-1 div.sk-toggleable__content {max-height: 0;max-width: 0;overflow: hidden;text-align: left;background-color: #f0f8ff;}#sk-container-id-1 div.sk-toggleable__content pre {margin: 0.2em;color: black;border-radius: 0.25em;background-color: #f0f8ff;}#sk-container-id-1 input.sk-toggleable__control:checked~div.sk-toggleable__content {max-height: 200px;max-width: 100%;overflow: auto;}#sk-container-id-1 input.sk-toggleable__control:checked~label.sk-toggleable__label-arrow:before {content: \"▾\";}#sk-container-id-1 div.sk-estimator input.sk-toggleable__control:checked~label.sk-toggleable__label {background-color: #d4ebff;}#sk-container-id-1 div.sk-label input.sk-toggleable__control:checked~label.sk-toggleable__label {background-color: #d4ebff;}#sk-container-id-1 input.sk-hidden--visually {border: 0;clip: rect(1px 1px 1px 1px);clip: rect(1px, 1px, 1px, 1px);height: 1px;margin: -1px;overflow: hidden;padding: 0;position: absolute;width: 1px;}#sk-container-id-1 div.sk-estimator {font-family: monospace;background-color: #f0f8ff;border: 1px dotted black;border-radius: 0.25em;box-sizing: border-box;margin-bottom: 0.5em;}#sk-container-id-1 div.sk-estimator:hover {background-color: #d4ebff;}#sk-container-id-1 div.sk-parallel-item::after {content: \"\";width: 100%;border-bottom: 1px solid gray;flex-grow: 1;}#sk-container-id-1 div.sk-label:hover label.sk-toggleable__label {background-color: #d4ebff;}#sk-container-id-1 div.sk-serial::before {content: \"\";position: absolute;border-left: 1px solid gray;box-sizing: border-box;top: 0;bottom: 0;left: 50%;z-index: 0;}#sk-container-id-1 div.sk-serial {display: flex;flex-direction: column;align-items: center;background-color: white;padding-right: 0.2em;padding-left: 0.2em;position: relative;}#sk-container-id-1 div.sk-item {position: relative;z-index: 1;}#sk-container-id-1 div.sk-parallel {display: flex;align-items: stretch;justify-content: center;background-color: white;position: relative;}#sk-container-id-1 div.sk-item::before, #sk-container-id-1 div.sk-parallel-item::before {content: \"\";position: absolute;border-left: 1px solid gray;box-sizing: border-box;top: 0;bottom: 0;left: 50%;z-index: -1;}#sk-container-id-1 div.sk-parallel-item {display: flex;flex-direction: column;z-index: 1;position: relative;background-color: white;}#sk-container-id-1 div.sk-parallel-item:first-child::after {align-self: flex-end;width: 50%;}#sk-container-id-1 div.sk-parallel-item:last-child::after {align-self: flex-start;width: 50%;}#sk-container-id-1 div.sk-parallel-item:only-child::after {width: 0;}#sk-container-id-1 div.sk-dashed-wrapped {border: 1px dashed gray;margin: 0 0.4em 0.5em 0.4em;box-sizing: border-box;padding-bottom: 0.4em;background-color: white;}#sk-container-id-1 div.sk-label label {font-family: monospace;font-weight: bold;display: inline-block;line-height: 1.2em;}#sk-container-id-1 div.sk-label-container {text-align: center;}#sk-container-id-1 div.sk-container {/* jupyter's `normalize.less` sets `[hidden] { display: none; }` but bootstrap.min.css set `[hidden] { display: none !important; }` so we also need the `!important` here to be able to override the default hidden behavior on the sphinx rendered scikit-learn.org. See: https://github.com/scikit-learn/scikit-learn/issues/21755 */display: inline-block !important;position: relative;}#sk-container-id-1 div.sk-text-repr-fallback {display: none;}</style><div id=\"sk-container-id-1\" class=\"sk-top-container\"><div class=\"sk-text-repr-fallback\"><pre>GridSearchCV(cv=4,\n",
       "             estimator=Pipeline(steps=[(&#x27;sc&#x27;, StandardScaler()),\n",
       "                                       (&#x27;model&#x27;, Lasso())]),\n",
       "             n_jobs=-1,\n",
       "             param_grid={&#x27;model__alpha&#x27;: array([0.1, 0.3, 0.5, 0.7, 0.9, 1.1, 1.3, 1.5, 1.7, 1.9, 2.1, 2.3, 2.5,\n",
       "       2.7, 2.9, 3.1, 3.3, 3.5, 3.7, 3.9, 4.1, 4.3, 4.5, 4.7, 4.9, 5.1,\n",
       "       5.3, 5.5, 5.7, 5.9, 6.1, 6.3, 6.5, 6.7, 6.9, 7.1, 7.3, 7.5, 7.7,\n",
       "       7.9, 8.1, 8.3, 8.5, 8.7, 8.9, 9.1, 9.3, 9.5, 9.7, 9.9])},\n",
       "             scoring=&#x27;neg_mean_squared_error&#x27;)</pre><b>In a Jupyter environment, please rerun this cell to show the HTML representation or trust the notebook. <br />On GitHub, the HTML representation is unable to render, please try loading this page with nbviewer.org.</b></div><div class=\"sk-container\" hidden><div class=\"sk-item sk-dashed-wrapped\"><div class=\"sk-label-container\"><div class=\"sk-label sk-toggleable\"><input class=\"sk-toggleable__control sk-hidden--visually\" id=\"sk-estimator-id-1\" type=\"checkbox\" ><label for=\"sk-estimator-id-1\" class=\"sk-toggleable__label sk-toggleable__label-arrow\">GridSearchCV</label><div class=\"sk-toggleable__content\"><pre>GridSearchCV(cv=4,\n",
       "             estimator=Pipeline(steps=[(&#x27;sc&#x27;, StandardScaler()),\n",
       "                                       (&#x27;model&#x27;, Lasso())]),\n",
       "             n_jobs=-1,\n",
       "             param_grid={&#x27;model__alpha&#x27;: array([0.1, 0.3, 0.5, 0.7, 0.9, 1.1, 1.3, 1.5, 1.7, 1.9, 2.1, 2.3, 2.5,\n",
       "       2.7, 2.9, 3.1, 3.3, 3.5, 3.7, 3.9, 4.1, 4.3, 4.5, 4.7, 4.9, 5.1,\n",
       "       5.3, 5.5, 5.7, 5.9, 6.1, 6.3, 6.5, 6.7, 6.9, 7.1, 7.3, 7.5, 7.7,\n",
       "       7.9, 8.1, 8.3, 8.5, 8.7, 8.9, 9.1, 9.3, 9.5, 9.7, 9.9])},\n",
       "             scoring=&#x27;neg_mean_squared_error&#x27;)</pre></div></div></div><div class=\"sk-parallel\"><div class=\"sk-parallel-item\"><div class=\"sk-item\"><div class=\"sk-label-container\"><div class=\"sk-label sk-toggleable\"><input class=\"sk-toggleable__control sk-hidden--visually\" id=\"sk-estimator-id-2\" type=\"checkbox\" ><label for=\"sk-estimator-id-2\" class=\"sk-toggleable__label sk-toggleable__label-arrow\">estimator: Pipeline</label><div class=\"sk-toggleable__content\"><pre>Pipeline(steps=[(&#x27;sc&#x27;, StandardScaler()), (&#x27;model&#x27;, Lasso())])</pre></div></div></div><div class=\"sk-serial\"><div class=\"sk-item\"><div class=\"sk-serial\"><div class=\"sk-item\"><div class=\"sk-estimator sk-toggleable\"><input class=\"sk-toggleable__control sk-hidden--visually\" id=\"sk-estimator-id-3\" type=\"checkbox\" ><label for=\"sk-estimator-id-3\" class=\"sk-toggleable__label sk-toggleable__label-arrow\">StandardScaler</label><div class=\"sk-toggleable__content\"><pre>StandardScaler()</pre></div></div></div><div class=\"sk-item\"><div class=\"sk-estimator sk-toggleable\"><input class=\"sk-toggleable__control sk-hidden--visually\" id=\"sk-estimator-id-4\" type=\"checkbox\" ><label for=\"sk-estimator-id-4\" class=\"sk-toggleable__label sk-toggleable__label-arrow\">Lasso</label><div class=\"sk-toggleable__content\"><pre>Lasso()</pre></div></div></div></div></div></div></div></div></div></div></div></div>"
      ],
      "text/plain": [
       "GridSearchCV(cv=4,\n",
       "             estimator=Pipeline(steps=[('sc', StandardScaler()),\n",
       "                                       ('model', Lasso())]),\n",
       "             n_jobs=-1,\n",
       "             param_grid={'model__alpha': array([0.1, 0.3, 0.5, 0.7, 0.9, 1.1, 1.3, 1.5, 1.7, 1.9, 2.1, 2.3, 2.5,\n",
       "       2.7, 2.9, 3.1, 3.3, 3.5, 3.7, 3.9, 4.1, 4.3, 4.5, 4.7, 4.9, 5.1,\n",
       "       5.3, 5.5, 5.7, 5.9, 6.1, 6.3, 6.5, 6.7, 6.9, 7.1, 7.3, 7.5, 7.7,\n",
       "       7.9, 8.1, 8.3, 8.5, 8.7, 8.9, 9.1, 9.3, 9.5, 9.7, 9.9])},\n",
       "             scoring='neg_mean_squared_error')"
      ]
     },
     "execution_count": 11,
     "metadata": {},
     "output_type": "execute_result"
    }
   ],
   "source": [
    "\n",
    "pipeline = Pipeline([('sc',StandardScaler()),('model',Lasso())])\n",
    "     \n",
    "\n",
    "lassocv = GridSearchCV(pipeline,\n",
    "                      {'model__alpha':np.arange(0.1,10,0.2)},\n",
    "                      cv = 4, scoring=\"neg_mean_squared_error\",\n",
    "                      n_jobs=-1)\n",
    "     \n",
    "\n",
    "lassocv.fit(xtrain_for_fs,ytrain)"
   ]
  },
  {
   "cell_type": "code",
   "execution_count": 12,
   "metadata": {},
   "outputs": [
    {
     "data": {
      "text/plain": [
       "{'model__alpha': 0.30000000000000004}"
      ]
     },
     "execution_count": 12,
     "metadata": {},
     "output_type": "execute_result"
    }
   ],
   "source": [
    "lassocv.best_params_"
   ]
  },
  {
   "cell_type": "code",
   "execution_count": 13,
   "metadata": {},
   "outputs": [],
   "source": [
    "\n",
    "coefs = pd.DataFrame({'variable':xtrain_for_fs.columns,\n",
    "                            'coef':lassocv.best_estimator_.named_steps['model'].coef_,\n",
    "                            'abs_coef':np.abs(lassocv.best_estimator_.named_steps['model'].coef_)})\n",
    "\n",
    "coefs.sort_values('abs_coef', inplace=True, ascending=False)"
   ]
  },
  {
   "cell_type": "code",
   "execution_count": 14,
   "metadata": {},
   "outputs": [
    {
     "name": "stdout",
     "output_type": "stream",
     "text": [
      "140 features are eliminated!\n"
     ]
    }
   ],
   "source": [
    "\n",
    "print('{} features are eliminated!'.format(coefs[coefs['abs_coef']==0].shape[0]))"
   ]
  },
  {
   "cell_type": "code",
   "execution_count": 15,
   "metadata": {},
   "outputs": [],
   "source": [
    "df_lasso = xtrain[coefs[coefs['abs_coef']!=0]['variable'].tolist()]"
   ]
  },
  {
   "cell_type": "code",
   "execution_count": 16,
   "metadata": {},
   "outputs": [
    {
     "data": {
      "text/plain": [
       "26"
      ]
     },
     "execution_count": 16,
     "metadata": {},
     "output_type": "execute_result"
    }
   ],
   "source": [
    "len(df_lasso.columns)"
   ]
  },
  {
   "cell_type": "code",
   "execution_count": 17,
   "metadata": {},
   "outputs": [
    {
     "data": {
      "text/plain": [
       "Index(['trend', 'sales_lag_7', 'sales_std_1_5', 'sales_lag_21', 'sales_lag_28',\n",
       "       'sales_lag_16', 'sales_max_1_7', 'sales_weighted_std3_1_3',\n",
       "       'sales_lag_5', 'sales_lag_1', 'sales_lag_4', 'sales_lag_10',\n",
       "       'sales_std_1_15', 'sales_mean_1_5', 'sales_min_1_5', 'sales_lag_14',\n",
       "       'sales_lag_23', 'resid', 'sales_lag_9', 'sales_std_1_8', 'sales_lag_26',\n",
       "       'sales_lag_24', 'sales_lag_13', 'sales_lag_19', 'sales_lag_3',\n",
       "       'sales_min_1_6'],\n",
       "      dtype='object')"
      ]
     },
     "execution_count": 17,
     "metadata": {},
     "output_type": "execute_result"
    }
   ],
   "source": [
    "df_lasso.columns"
   ]
  },
  {
   "cell_type": "code",
   "execution_count": 18,
   "metadata": {},
   "outputs": [],
   "source": [
    "lasso_cols = np.concatenate((df_lasso.columns, cat_var))\n",
    "lasso_xtrain = xtrain.loc[:, lasso_cols]\n",
    "lasso_xest = xtest.loc[:, lasso_cols]"
   ]
  },
  {
   "cell_type": "code",
   "execution_count": 19,
   "metadata": {},
   "outputs": [
    {
     "data": {
      "text/plain": [
       "((738, 34), (104, 34))"
      ]
     },
     "execution_count": 19,
     "metadata": {},
     "output_type": "execute_result"
    }
   ],
   "source": [
    "lasso_xtrain.shape, lasso_xest.shape\n"
   ]
  },
  {
   "cell_type": "code",
   "execution_count": 20,
   "metadata": {},
   "outputs": [],
   "source": [
    "lasso_xtrain_tf, lasso_xtest_tf = normalize(lasso_xtrain, lasso_xest)\n",
    "lasso_traindt_tf = (lasso_xtrain_tf, np.ravel(ytrain,'C'))\n",
    "lasso_testdt_tf = (lasso_xtest_tf, np.ravel(ytest,'C'))\n",
    "\n",
    "with open(\"data/full_features/lasso/traindt-tf.pkl\", 'wb') as f:\n",
    "    pickle.dump(file=f, obj=lasso_traindt_tf)\n",
    "\n",
    "with open(\"data/full_features/lasso/testdt-tf.pkl\", 'wb') as f:\n",
    "    pickle.dump(file=f, obj=lasso_testdt_tf)\n",
    "\n",
    "with open(\"data/full_features/lasso/traindt.pkl\", 'wb') as f:\n",
    "    pickle.dump(file=f, obj=(lasso_xtrain, ytrain))\n",
    "\n",
    "with open(\"data/full_features/lasso/testdt.pkl\", 'wb') as f:\n",
    "    pickle.dump(file=f, obj=(lasso_xest, ytest))"
   ]
  }
 ],
 "metadata": {
  "kernelspec": {
   "display_name": "Python 3",
   "language": "python",
   "name": "python3"
  },
  "language_info": {
   "codemirror_mode": {
    "name": "ipython",
    "version": 3
   },
   "file_extension": ".py",
   "mimetype": "text/x-python",
   "name": "python",
   "nbconvert_exporter": "python",
   "pygments_lexer": "ipython3",
   "version": "3.10.2 (tags/v3.10.2:a58ebcc, Jan 17 2022, 14:12:15) [MSC v.1929 64 bit (AMD64)]"
  },
  "orig_nbformat": 4,
  "vscode": {
   "interpreter": {
    "hash": "cf4ca9b743a680d1b097fdee7c5c2520a19857ac95bc42935421cab0477c9137"
   }
  }
 },
 "nbformat": 4,
 "nbformat_minor": 2
}
