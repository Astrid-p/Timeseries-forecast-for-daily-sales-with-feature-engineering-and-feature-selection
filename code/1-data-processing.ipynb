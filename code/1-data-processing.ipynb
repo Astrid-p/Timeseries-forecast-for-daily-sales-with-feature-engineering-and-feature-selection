{
 "cells": [
  {
   "cell_type": "code",
   "execution_count": 1,
   "metadata": {},
   "outputs": [],
   "source": [
    "import glob\n",
    "from os import getcwd\n",
    "import os\n",
    "import pandas as pd"
   ]
  },
  {
   "cell_type": "code",
   "execution_count": 2,
   "metadata": {},
   "outputs": [],
   "source": [
    "# get working directory\n",
    "path = os.path.dirname(getcwd())\n",
    "os.chdir(path)"
   ]
  },
  {
   "cell_type": "code",
   "execution_count": 3,
   "metadata": {},
   "outputs": [
    {
     "data": {
      "text/plain": [
       "(13304, 7)"
      ]
     },
     "execution_count": 3,
     "metadata": {},
     "output_type": "execute_result"
    }
   ],
   "source": [
    "df = pd.read_csv('data/0-data_raw.csv')\n",
    "df.shape\n"
   ]
  },
  {
   "cell_type": "code",
   "execution_count": 4,
   "metadata": {},
   "outputs": [
    {
     "data": {
      "text/html": [
       "<div>\n",
       "<style scoped>\n",
       "    .dataframe tbody tr th:only-of-type {\n",
       "        vertical-align: middle;\n",
       "    }\n",
       "\n",
       "    .dataframe tbody tr th {\n",
       "        vertical-align: top;\n",
       "    }\n",
       "\n",
       "    .dataframe thead th {\n",
       "        text-align: right;\n",
       "    }\n",
       "</style>\n",
       "<table border=\"1\" class=\"dataframe\">\n",
       "  <thead>\n",
       "    <tr style=\"text-align: right;\">\n",
       "      <th></th>\n",
       "      <th>EvseId</th>\n",
       "      <th>Created</th>\n",
       "      <th>ExternalId</th>\n",
       "      <th>DurationSeconds</th>\n",
       "      <th>VolumeKwh</th>\n",
       "      <th>TariffCode</th>\n",
       "      <th>WholesaleCost</th>\n",
       "    </tr>\n",
       "  </thead>\n",
       "  <tbody>\n",
       "    <tr>\n",
       "      <th>0</th>\n",
       "      <td>NL-GFX-ENL-GFX-RD00274-2</td>\n",
       "      <td>2022-05-30 10:41:16.2820000</td>\n",
       "      <td>NLGFX637894848203153288-fa347</td>\n",
       "      <td>19255</td>\n",
       "      <td>15.09</td>\n",
       "      <td>A2</td>\n",
       "      <td>4.53</td>\n",
       "    </tr>\n",
       "    <tr>\n",
       "      <th>1</th>\n",
       "      <td>NL-GFX-ENL-GFX-RD00265-2</td>\n",
       "      <td>2022-09-02 12:40:41.2880000</td>\n",
       "      <td>NLGFX637976966424191918-7e64d</td>\n",
       "      <td>22598</td>\n",
       "      <td>21.15</td>\n",
       "      <td>A2</td>\n",
       "      <td>6.35</td>\n",
       "    </tr>\n",
       "    <tr>\n",
       "      <th>2</th>\n",
       "      <td>NL-GFX-ENL-GFX-RD00274-2</td>\n",
       "      <td>2022-04-14 15:39:58.1317664</td>\n",
       "      <td>NLGFX637855148498851366-5d792</td>\n",
       "      <td>32748</td>\n",
       "      <td>44.94</td>\n",
       "      <td>A2</td>\n",
       "      <td>13.48</td>\n",
       "    </tr>\n",
       "    <tr>\n",
       "      <th>3</th>\n",
       "      <td>NL-GFX-ENL-GFX-RD00298-1</td>\n",
       "      <td>2022-05-23 14:48:21.4670000</td>\n",
       "      <td>NLGFX637888818910573415-70dbb</td>\n",
       "      <td>32209</td>\n",
       "      <td>10.13</td>\n",
       "      <td>A2</td>\n",
       "      <td>3.04</td>\n",
       "    </tr>\n",
       "    <tr>\n",
       "      <th>4</th>\n",
       "      <td>NL-GFX-EJLZ-J0034-1</td>\n",
       "      <td>2022-09-08 16:06:55.9930000</td>\n",
       "      <td>NLGFX637982393543662442-da421</td>\n",
       "      <td>10674</td>\n",
       "      <td>21.11</td>\n",
       "      <td>A2</td>\n",
       "      <td>6.33</td>\n",
       "    </tr>\n",
       "    <tr>\n",
       "      <th>...</th>\n",
       "      <td>...</td>\n",
       "      <td>...</td>\n",
       "      <td>...</td>\n",
       "      <td>...</td>\n",
       "      <td>...</td>\n",
       "      <td>...</td>\n",
       "      <td>...</td>\n",
       "    </tr>\n",
       "    <tr>\n",
       "      <th>13299</th>\n",
       "      <td>NL-GFX-ENL-GFX-RD00298-2</td>\n",
       "      <td>2022-04-05 15:23:58.7895576</td>\n",
       "      <td>NLGFX637847361217293655-37fc4</td>\n",
       "      <td>32917</td>\n",
       "      <td>7.04</td>\n",
       "      <td>A2</td>\n",
       "      <td>2.11</td>\n",
       "    </tr>\n",
       "    <tr>\n",
       "      <th>13300</th>\n",
       "      <td>NL-GFX-ENL-GFX-RD00298-2</td>\n",
       "      <td>2022-04-05 20:08:37.9849630</td>\n",
       "      <td>NLGFX637847717872460703-350b8</td>\n",
       "      <td>14330</td>\n",
       "      <td>22.84</td>\n",
       "      <td>A2</td>\n",
       "      <td>6.85</td>\n",
       "    </tr>\n",
       "    <tr>\n",
       "      <th>13301</th>\n",
       "      <td>NL-GFX-ENL-GFX-RD00298-2</td>\n",
       "      <td>2022-04-07 14:55:21.3205966</td>\n",
       "      <td>NLGFX637849071138930102-d37d9</td>\n",
       "      <td>32993</td>\n",
       "      <td>19.06</td>\n",
       "      <td>A2</td>\n",
       "      <td>5.72</td>\n",
       "    </tr>\n",
       "    <tr>\n",
       "      <th>13302</th>\n",
       "      <td>NL-GFX-ENL-GFX-RD00298-1</td>\n",
       "      <td>2022-04-11 09:30:45.2049924</td>\n",
       "      <td>NLGFX637852534186916025-89e22</td>\n",
       "      <td>12825</td>\n",
       "      <td>24.80</td>\n",
       "      <td>A2</td>\n",
       "      <td>7.44</td>\n",
       "    </tr>\n",
       "    <tr>\n",
       "      <th>13303</th>\n",
       "      <td>NL-GFX-ENL-GFX-RD00298-2</td>\n",
       "      <td>2022-04-11 13:17:19.1504003</td>\n",
       "      <td>NLGFX637852553805124208-57e45</td>\n",
       "      <td>24459</td>\n",
       "      <td>7.44</td>\n",
       "      <td>A2</td>\n",
       "      <td>2.23</td>\n",
       "    </tr>\n",
       "  </tbody>\n",
       "</table>\n",
       "<p>13304 rows × 7 columns</p>\n",
       "</div>"
      ],
      "text/plain": [
       "                         EvseId                      Created  \\\n",
       "0      NL-GFX-ENL-GFX-RD00274-2  2022-05-30 10:41:16.2820000   \n",
       "1      NL-GFX-ENL-GFX-RD00265-2  2022-09-02 12:40:41.2880000   \n",
       "2      NL-GFX-ENL-GFX-RD00274-2  2022-04-14 15:39:58.1317664   \n",
       "3      NL-GFX-ENL-GFX-RD00298-1  2022-05-23 14:48:21.4670000   \n",
       "4           NL-GFX-EJLZ-J0034-1  2022-09-08 16:06:55.9930000   \n",
       "...                         ...                          ...   \n",
       "13299  NL-GFX-ENL-GFX-RD00298-2  2022-04-05 15:23:58.7895576   \n",
       "13300  NL-GFX-ENL-GFX-RD00298-2  2022-04-05 20:08:37.9849630   \n",
       "13301  NL-GFX-ENL-GFX-RD00298-2  2022-04-07 14:55:21.3205966   \n",
       "13302  NL-GFX-ENL-GFX-RD00298-1  2022-04-11 09:30:45.2049924   \n",
       "13303  NL-GFX-ENL-GFX-RD00298-2  2022-04-11 13:17:19.1504003   \n",
       "\n",
       "                          ExternalId  DurationSeconds  VolumeKwh TariffCode  \\\n",
       "0      NLGFX637894848203153288-fa347            19255      15.09         A2   \n",
       "1      NLGFX637976966424191918-7e64d            22598      21.15         A2   \n",
       "2      NLGFX637855148498851366-5d792            32748      44.94         A2   \n",
       "3      NLGFX637888818910573415-70dbb            32209      10.13         A2   \n",
       "4      NLGFX637982393543662442-da421            10674      21.11         A2   \n",
       "...                              ...              ...        ...        ...   \n",
       "13299  NLGFX637847361217293655-37fc4            32917       7.04         A2   \n",
       "13300  NLGFX637847717872460703-350b8            14330      22.84         A2   \n",
       "13301  NLGFX637849071138930102-d37d9            32993      19.06         A2   \n",
       "13302  NLGFX637852534186916025-89e22            12825      24.80         A2   \n",
       "13303  NLGFX637852553805124208-57e45            24459       7.44         A2   \n",
       "\n",
       "       WholesaleCost  \n",
       "0               4.53  \n",
       "1               6.35  \n",
       "2              13.48  \n",
       "3               3.04  \n",
       "4               6.33  \n",
       "...              ...  \n",
       "13299           2.11  \n",
       "13300           6.85  \n",
       "13301           5.72  \n",
       "13302           7.44  \n",
       "13303           2.23  \n",
       "\n",
       "[13304 rows x 7 columns]"
      ]
     },
     "execution_count": 4,
     "metadata": {},
     "output_type": "execute_result"
    }
   ],
   "source": [
    "df"
   ]
  },
  {
   "cell_type": "code",
   "execution_count": 4,
   "metadata": {},
   "outputs": [
    {
     "data": {
      "text/plain": [
       "Index(['EvseId', 'Created', 'ExternalId', 'DurationSeconds', 'VolumeKwh',\n",
       "       'TariffCode', 'WholesaleCost'],\n",
       "      dtype='object')"
      ]
     },
     "execution_count": 4,
     "metadata": {},
     "output_type": "execute_result"
    }
   ],
   "source": [
    "df.columns"
   ]
  },
  {
   "cell_type": "code",
   "execution_count": 4,
   "metadata": {},
   "outputs": [],
   "source": [
    "# Summarizing data\n",
    "def sumarizingsaledata(rawdf):\n",
    "    dt  = rawdf[['Created', 'WholesaleCost']].copy()\n",
    "    day = pd.to_datetime(dt['Created']).dt.date\n",
    "    del dt['Created']\n",
    "    dt['date'] = day\n",
    "    dt = dt.groupby(by = 'date').agg({'WholesaleCost': 'sum'})\n",
    "    dt = dt.rename(columns={'WholesaleCost': 'sales'})\n",
    "    dt.index = pd.to_datetime(dt.index) \n",
    "    new_index = pd.date_range(start=dt.index.min(), end=dt.index.max(), freq=\"D\")\n",
    "    dt = dt.reindex(new_index, fill_value=0)\n",
    "    dt.index.name = 'Date'\n",
    "    return dt"
   ]
  },
  {
   "cell_type": "code",
   "execution_count": 5,
   "metadata": {},
   "outputs": [],
   "source": [
    "processed_df = sumarizingsaledata(df)\n",
    "processed_df.to_pickle('data/1-preprocessed.pkl')"
   ]
  },
  {
   "cell_type": "code",
   "execution_count": null,
   "metadata": {},
   "outputs": [],
   "source": []
  }
 ],
 "metadata": {
  "kernelspec": {
   "display_name": "Python 3",
   "language": "python",
   "name": "python3"
  },
  "language_info": {
   "codemirror_mode": {
    "name": "ipython",
    "version": 3
   },
   "file_extension": ".py",
   "mimetype": "text/x-python",
   "name": "python",
   "nbconvert_exporter": "python",
   "pygments_lexer": "ipython3",
   "version": "3.10.2"
  },
  "orig_nbformat": 4,
  "vscode": {
   "interpreter": {
    "hash": "cf4ca9b743a680d1b097fdee7c5c2520a19857ac95bc42935421cab0477c9137"
   }
  }
 },
 "nbformat": 4,
 "nbformat_minor": 2
}
